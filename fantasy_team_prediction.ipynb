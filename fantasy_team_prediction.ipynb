{
  "nbformat": 4,
  "nbformat_minor": 0,
  "metadata": {
    "colab": {
      "name": "fantasy team prediction.ipynb",
      "provenance": [],
      "collapsed_sections": [],
      "authorship_tag": "ABX9TyNVPq8U1nbA0GrbCvCqwEQ3",
      "include_colab_link": true
    },
    "kernelspec": {
      "name": "python3",
      "display_name": "Python 3"
    },
    "language_info": {
      "name": "python"
    }
  },
  "cells": [
    {
      "cell_type": "markdown",
      "metadata": {
        "id": "view-in-github",
        "colab_type": "text"
      },
      "source": [
        "<a href=\"https://colab.research.google.com/github/CHAbhishek/Fantasy-team-prediction/blob/main/fantasy_team_prediction.ipynb\" target=\"_parent\"><img src=\"https://colab.research.google.com/assets/colab-badge.svg\" alt=\"Open In Colab\"/></a>"
      ]
    },
    {
      "cell_type": "markdown",
      "source": [
        "https://www.kaggle.com/code/abhishekkoshta/ipl-dream11-winner-team-prediction-2021\n",
        "\n",
        "https://www.kaggle.com/code/depekha/ipl-complete-dataset-2008-2020/notebook\n",
        "\n",
        "https://github.com/abhishek374/dream11\n",
        "https://medium.com/analytics-vidhya/dream11-team-predictor-with-python-and-machine-learning-f0dfce1489eb"
      ],
      "metadata": {
        "id": "nCj35MU9wzKy"
      }
    },
    {
      "cell_type": "markdown",
      "source": [
        "Creating fantasy points"
      ],
      "metadata": {
        "id": "MetzZJ9KqpPw"
      }
    },
    {
      "cell_type": "code",
      "execution_count": null,
      "metadata": {
        "id": "Fa0fLvgRqNgI"
      },
      "outputs": [],
      "source": [
        "# Fantasy Points\n",
        "\n",
        "Batsman_points = {'Run':1, 'bFour':1, 'bSix':2, '30Runs':4,\n",
        "        'Half_century':8, 'Century':16, 'Duck':-2, '170sr':6,\n",
        "                 '150sr':4, '130sr':2, '70sr':-2, '60sr':-4, '50sr':-6}\n",
        "\n",
        "Bowling_points = {'Wicket':25, 'LBW_Bowled':8, '3W':4, '4W':8, \n",
        "                  '5W':16, 'Maiden':12, '5rpo':6, '6rpo':4, '7rpo':2, '10rpo':-2,\n",
        "                 '11rpo':-4, '12rpo':-6}\n",
        "\n",
        "Fielding_points = {'Catch':8, '3Cath':4, 'Stumping':12, 'RunOutD':12,\n",
        "                  'RunOutInd':6}"
      ]
    },
    {
      "cell_type": "markdown",
      "source": [
        "Checking performance of batsman in one team against another team's bowlers"
      ],
      "metadata": {
        "id": "jpv23rOfqtIE"
      }
    },
    {
      "cell_type": "code",
      "source": [
        "team1 = mi; team2 = rcb\n",
        "\n",
        "for i in range(len(team1)):\n",
        "    ffp = []\n",
        "    for j in range(len(team2)):\n",
        "        bat_vs_bowl = byb[(byb[\"batsman\"]==team1[i]) & (byb[\"bowler\"]==team2[j])]\n",
        "        bowls_played = len(bat_vs_bowl.batsman_runs)\n",
        "        runs_scored = sum(bat_vs_bowl.batsman_runs)\n",
        "        fours = len(bat_vs_bowl[bat_vs_bowl['batsman_runs']==4])\n",
        "        sixes = len(bat_vs_bowl[bat_vs_bowl['batsman_runs']==6])\n",
        "        wicket = sum(bat_vs_bowl.is_wicket)\n",
        "        if bowls_played <=6*10 and wicket >=5:\n",
        "            penalty = -16\n",
        "            print (team1[i], \"ka wicket taken\",wicket,\"times by\", team2[j])\n",
        "        elif bowls_played <=6*8 and wicket >=4:\n",
        "            penalty = -8\n",
        "            print (team1[i], \"ka wicket taken\",wicket,\"times by\", team2[j])\n",
        "        elif bowls_played <=6*6 and wicket >=3:\n",
        "            penalty = -4\n",
        "            print (team1[i], \"'s wicket taken\",wicket,\"times by\", team2[j])\n",
        "        else:\n",
        "            penalty = 0\n",
        "        try:    \n",
        "            strike_rate = int(runs_scored/bowls_played*100)\n",
        "        except: \n",
        "            strike_rate = 'NA'\n",
        "\n",
        "        if bowls_played >=8 and strike_rate!='NA':\n",
        "            if strike_rate >=170:\n",
        "                print (team1[i] ,\"beaten\", team2[j], \"Runs\", runs_scored,\"bowls\",bowls_played,\"strike rate\", strike_rate,'Out',wicket,'times', \"Fours\", fours,\"Sixes\", sixes)            \n",
        "            elif strike_rate >=150:\n",
        "                print (team1[i] ,\"beaten\", team2[j], \"Runs\", runs_scored,\"bowls\",bowls_played,\"strike rate\", strike_rate,'Out',wicket,'times', \"Fours\", fours,\"Sixes\", sixes)            \n",
        "                        \n",
        "        bowl_vs_bat = byb[(byb[\"bowler\"]==team1[i]) & (byb[\"batsman\"]==team2[j])]\n",
        "        wicket_took = sum(bowl_vs_bat.is_wicket)\n",
        "        fantasy_points1 = runs_scored + fours*Batsman_points['bFour'] + sixes*Batsman_points['bSix'] - wicket*Bowling_points['Wicket'] + wicket_took*Bowling_points['Wicket'] + penalty\n",
        "        ffp.append(fantasy_points1)\n",
        "#         print (team1[i] ,\"against\", team2[j], \"Runs\", runs_scored, \n",
        "#                \"bowls\",bowls_played,\"strike rate\", strike_rate,\n",
        "#               'Out',wicket,'times', \"Fours\", fours,\"Sixes\", sixes)"
      ],
      "metadata": {
        "id": "z8wMNVMDqtiE"
      },
      "execution_count": null,
      "outputs": []
    },
    {
      "cell_type": "markdown",
      "source": [
        "taking other fantasy points into consideration"
      ],
      "metadata": {
        "id": "2BTnCf-Dvw36"
      }
    },
    {
      "cell_type": "code",
      "source": [
        "def get_players(team1,team2,team1_fp):\n",
        "    fantasy_team_players = []\n",
        "\n",
        "    for i in range(len(team1)):\n",
        "        unq_ids = byb[byb[\"batsman\"]==team1[i]]['id'].unique()\n",
        "        mathces_played = len(unq_ids)\n",
        "#         print ( \"Number of matches played\" , len(unq_ids),team1[i])\n",
        "        bbr = []\n",
        "        for x in unq_ids:\n",
        "            bat_run = sum(byb[(byb[\"batsman\"]==team1[i])&(byb['id']==x)]['batsman_runs'])\n",
        "            bbr.append(bat_run)\n",
        "\n",
        "        r30,r50,r100 =0,0,0\n",
        "        for m in bbr:\n",
        "            if m>=100:\n",
        "                r100+=1\n",
        "            elif m>=50:\n",
        "                r50+=1\n",
        "            elif m>=30:\n",
        "                r30+=1\n",
        "        try:\n",
        "            catches = len(byb[(byb['fielder']==team1[i]) & (byb['dismissal_kind']=='caught')])/mathces_played\n",
        "            run_outs = len(byb[(byb['fielder']==team1[i]) & (byb['dismissal_kind']=='run out')])/mathces_played\n",
        "            extra_points = r30/mathces_played*Batsman_points['30Runs'] +r50/mathces_played*Batsman_points['Half_century'] +r100/mathces_played*Batsman_points['Century'] +catches*Fielding_points['Catch']+run_outs*Fielding_points['RunOutInd']\n",
        "        except:\n",
        "            catches, run_outs, extra_points = 0,0,0\n",
        "        \n",
        "        # Extra Points for bowlers to be estimated here\n",
        "        wickets_taken = []\n",
        "        for x in unq_ids:\n",
        "            twx = sum(byb[(byb[\"bowler\"]==team1[i]) & (byb['id']==x)]['is_wicket'])\n",
        "            wickets_taken.append(twx)\n",
        "\n",
        "        w3,w4,w5 = 0,0,0\n",
        "        for z in wickets_taken:\n",
        "            if z>=5:\n",
        "                w5+=1\n",
        "            elif z>=4:\n",
        "                w4+=1\n",
        "            elif z>=3:\n",
        "                w3+=1\n",
        "        try:\n",
        "            lbws = len((byb[(byb['bowler']==team1[i]) & (byb['dismissal_kind']=='lbw')]))/mathces_played      \n",
        "            bowled = len((byb[(byb['bowler']==team1[i]) & (byb['dismissal_kind']=='bowled')]))/mathces_played      \n",
        "            wexp = w3/mathces_played*Bowling_points['3W'] + w4/mathces_played*Bowling_points['4W'] + w5/mathces_played*Bowling_points['5W'] + lbws*Bowling_points['LBW_Bowled'] + bowled*Bowling_points['LBW_Bowled']\n",
        "        except:\n",
        "            lbws, bowled, wexp = 0,0,0\n",
        "        \n",
        "        ffp = []\n",
        "        for j in range(len(team2)):\n",
        "            bat_vs_bowl = byb[(byb[\"batsman\"]==team1[i]) & (byb[\"bowler\"]==team2[j])]\n",
        "            bowls_played = len(bat_vs_bowl.batsman_runs)\n",
        "            runs_scored = sum(bat_vs_bowl.batsman_runs)\n",
        "            fours = len(bat_vs_bowl[bat_vs_bowl['batsman_runs']==4])\n",
        "            sixes = len(bat_vs_bowl[bat_vs_bowl['batsman_runs']==6])\n",
        "            wicket = sum(bat_vs_bowl.is_wicket)\n",
        "            if bowls_played <=6*10 and wicket >=5:\n",
        "                penalty = -16\n",
        "                print (team1[i], \"ka wicket taken\",wicket,\"times by\", team2[j])\n",
        "            elif bowls_played <=6*8 and wicket >=4:\n",
        "                penalty = -8\n",
        "                print (team1[i], \"ka wicket taken\",wicket,\"times by\", team2[j])\n",
        "            elif bowls_played <=6*6 and wicket >=3:\n",
        "                penalty = -4\n",
        "                print (team1[i], \"'s wicket taken\",wicket,\"times by\", team2[j])\n",
        "            else:\n",
        "                penalty = 0\n",
        "\n",
        "            try:    \n",
        "                strike_rate = int(runs_scored/bowls_played*100)\n",
        "            except: \n",
        "                strike_rate = 'NA'            \n",
        "            if bowls_played >=10 and strike_rate!='NA':\n",
        "                if strike_rate >=170:\n",
        "                    print (team1[i] ,\"beaten\", team2[j], \"Runs\", runs_scored,\"bowls\",bowls_played,\"strike rate\", strike_rate,'Out',wicket,'times', \"Fours\", fours,\"Sixes\", sixes)            \n",
        "                elif strike_rate >=150:\n",
        "                    print (team1[i] ,\"beaten\", team2[j], \"Runs\", runs_scored,\"bowls\",bowls_played,\"strike rate\", strike_rate,'Out',wicket,'times', \"Fours\", fours,\"Sixes\", sixes)            \n",
        "\n",
        "                \n",
        "            bowl_vs_bat = byb[(byb[\"bowler\"]==team1[i]) & (byb[\"batsman\"]==team2[j])]\n",
        "            wicket_took = sum(bowl_vs_bat.is_wicket)\n",
        "            fantasy_points1 = runs_scored + fours*Batsman_points['bFour'] + sixes*Batsman_points['bSix'] - wicket*Bowling_points['Wicket'] + wicket_took*Bowling_points['Wicket'] + penalty \n",
        "            ffp.append(fantasy_points1)\n",
        "#             print (team1[i] ,\"against\", team2[j], \"Runs\", runs_scored, \n",
        "#                    \"bowls\",bowls_played,\"strike rate\", strike_rate,\n",
        "#                   'Out',wicket,'times', \"Fours\", fours,\"Sixes\", sixes, \"fatansy points\",fantasy_points1)\n",
        "        sum_ffp = sum(ffp)\n",
        "        if team1_fp[team1[i]] > 0:\n",
        "            recent_performace_points = np.log(team1_fp[team1[i]])\n",
        "        elif team1_fp[team1[i]] <0:\n",
        "            recent_performace_points = -np.log(abs(team1_fp[team1[i]]))\n",
        "        else:\n",
        "            recent_performace_points = 0\n",
        "        # Trying a new method for recent performancec point\n",
        "        recent_performace_points = team1_fp[team1[i]]/3\n",
        "        weight1 = 0.5\n",
        "        weight2 = 1 - weight1\n",
        "        final_fantasy_point = (sum_ffp + extra_points + wexp)*weight1 + recent_performace_points*weight2\n",
        "        final_fantasy_point = round(final_fantasy_point,2)\n",
        "        fantasy_team_players.append((final_fantasy_point,team1[i]))\n",
        "        fantasy_team_players.sort(reverse=True)\n",
        "#         print (\"Fatasy points of\",team1[i],final_fantasy_point)\n",
        "    return fantasy_team_players\n",
        "\n",
        "t1 = get_players(mi, rcb, mi_fp)\n",
        "print ('\\n')\n",
        "t2 = get_players(rcb, mi, rcb_fp)\n",
        "t3 = t1 + t2\n",
        "t3.sort(reverse = True)\n",
        "print (\"================================================\\n\")\n",
        "print (\"Team 1\", t1)\n",
        "print (\"================================================\\n\")\n",
        "print (\"Team 2\", t2)\n",
        "print('\\n Your final team')\n",
        "t3[:15]"
      ],
      "metadata": {
        "id": "xvDXPzpSvxgA"
      },
      "execution_count": null,
      "outputs": []
    },
    {
      "cell_type": "markdown",
      "source": [
        "https://www.kaggle.com/code/malaydhami/fantasy-ipl-dream-team/notebook\n",
        "Batting Points\n",
        "Run -> +1\n",
        "\n",
        "Boundary Bonus -> +1\n",
        "\n",
        "Six Bonus -> +2\n",
        "\n",
        "30 Run Bonus -> +4\n",
        "\n",
        "Half-century Bonus -> +8\n",
        "\n",
        "Century Bonus -> +16\n",
        "finds bat_score according to point system mentioned above."
      ],
      "metadata": {
        "id": "YS5Yhi7rwCgJ"
      }
    },
    {
      "cell_type": "code",
      "source": [
        "def batsman_score(x):\n",
        "    x[\"bat_score\"]=1*x[\"runs\"]+1*x[\"fours\"]+2*x[\"sixes\"]+4*x[\"thirty\"]+8*x[\"fifty\"]+16*x[\"century\"]\n",
        "    return x\n",
        "\n",
        "def get_bat_stats(df):\n",
        "    # Initialize batting dataframe.\n",
        "    batting_df = pd.DataFrame(columns=[\"player\",\"runs\",\"fours\",\"sixes\",\"thirty\",\"fifty\",\"century\"])\n",
        "\n",
        "    # Let's use groupby function. Our aim is to find batting score so we'll group our data by batsman.\n",
        "    for player,details in df.groupby(\"batsman\"):\n",
        "        total_runs = sum(details[\"batsman_runs\"])\n",
        "\n",
        "        # If batsman_runs is 4 then we count it as four.\n",
        "        fours=0\n",
        "        try:\n",
        "            fours=details[\"batsman_runs\"].value_counts()[4]\n",
        "        except:\n",
        "            fours=0      \n",
        "\n",
        "        # If batsman_runs is 6 then we count it as six.\n",
        "        sixes=0\n",
        "        try:\n",
        "            sixes=details[\"batsman_runs\"].value_counts()[6]\n",
        "        except:\n",
        "            sixes=0 \n",
        "\n",
        "        thirty=0\n",
        "        fifty=0\n",
        "        century=0\n",
        "\n",
        "        # To find thirty, fifty, century of the player we need to group our dataframe(details) by match id.\n",
        "        for match,match_details in details.groupby(\"id\"):\n",
        "\n",
        "            # Find total score of the player by sum up total runs.\n",
        "            match_score = sum(match_details[\"batsman_runs\"])\n",
        "\n",
        "            # Accourding to match_score this count thirties, fifties, centuries.\n",
        "            if match_score>=100:\n",
        "                century+=1\n",
        "            elif match_score>=50:\n",
        "                fifty+=1\n",
        "            elif match_score>=30:\n",
        "                thirty+=1\n",
        "\n",
        "        # Store all the data into batting dataframe.\n",
        "        batting_df = batting_df.append({\"player\":player,\"runs\":total_runs,\"fours\":fours,\"sixes\":sixes,\"thirty\":thirty,\"fifty\":fifty,\"century\":century},ignore_index=True)\n",
        "    \n",
        "    # To find bat_score we apply batsman_score function\n",
        "    batting_df=batting_df.apply(batsman_score,axis=1)\n",
        "    return batting_df"
      ],
      "metadata": {
        "id": "r3D39iC-wCGz"
      },
      "execution_count": null,
      "outputs": []
    },
    {
      "cell_type": "markdown",
      "source": [
        "Bowling Points\n",
        "Wicket -> +25\n",
        "\n",
        "Bonus (LBW / Bowled) -> +8\n",
        "\n",
        "3 Wicket Bonus -> +4\n",
        "\n",
        "4 Wicket Bonus -> +8\n",
        "\n",
        "5 Wicket Bonus -> +16"
      ],
      "metadata": {
        "id": "9l8m3yRxwYtI"
      }
    },
    {
      "cell_type": "code",
      "source": [
        "def bowler_score(x):\n",
        "    x[\"bowl_score\"]=25*x[\"wickets\"]+8*x[\"lbw_or_bowled\"]+4*x[\"three_wickets\"]+8*x[\"four_wickets\"]+16*x[\"five_wickets\"]\n",
        "    return x\n",
        "\n",
        "def get_bowl_stats(df):\n",
        "    # Initialize bowling dataframe.\n",
        "    bowling_df = pd.DataFrame(columns=[\"player\",\"wickets\",\"lbw_or_bowled\",\"three_wickets\",\"four_wickets\",\"five_wickets\"])\n",
        "\n",
        "    # Let's use groupby function. Our aim is to find bowling score so we'll group our data by bowler.\n",
        "    for player,details in df.groupby(\"bowler\"):\n",
        "\n",
        "        # It finds the length of dataframe where dismissal kind is either lbw or bowled\n",
        "        lbw_or_bowled=len(details.query('dismissal_kind == \"lbw\" or dismissal_kind == \"bowled\"'))\n",
        "\n",
        "        total_wickets=0\n",
        "        three_wickets=0\n",
        "        four_wickets=0\n",
        "        fifer=0\n",
        "\n",
        "        # To find three wicket haul, four wicket haul and five wicket haul we should group dataframe(details) again by match id.\n",
        "        for match,match_details in details.groupby(\"id\"):\n",
        "            wickets = len(match_details.query('dismissal_kind in [\"caught\",\"bowled\",\"lbw\",\"stumped\",\"caught and bowled\"]'))\n",
        "            if wickets>=3:\n",
        "                three_wickets+=1\n",
        "            elif wickets>=4:\n",
        "                four_wickets+=1\n",
        "            elif wickets>=5:\n",
        "                fifer+=1\n",
        "            # Need to add every match wickets into total_wickets to find total wickets of bowler.\n",
        "            total_wickets+=wickets\n",
        "\n",
        "        # Store all the data into bowling dataframe.\n",
        "        bowling_df = bowling_df.append({\"player\":player,\"wickets\":total_wickets,\"lbw_or_bowled\":lbw_or_bowled,\"three_wickets\":three_wickets,\"four_wickets\":four_wickets,\"five_wickets\":fifer},ignore_index=True)\n",
        "        \n",
        "    # To find bowl_score we apply bowler_score function.\n",
        "    bowling_df=bowling_df.apply(bowler_score,axis=1) \n",
        "    return bowling_df"
      ],
      "metadata": {
        "id": "lKZjuJTAwY_S"
      },
      "execution_count": null,
      "outputs": []
    },
    {
      "cell_type": "code",
      "source": [
        "def get_wicketkeepers(df):\n",
        "    # Let's find out wicketkeepers from this dataset. To achieve this we'll check dismissal kind, if it is stumpout then store such fielders name into list\n",
        "    return list(df.query('dismissal_kind == \"stumped\"')['fielder'].unique())"
      ],
      "metadata": {
        "id": "66sHENXewliT"
      },
      "execution_count": null,
      "outputs": []
    }
  ]
}